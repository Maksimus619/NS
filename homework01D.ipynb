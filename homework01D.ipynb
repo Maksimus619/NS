{
  "cells": [
    {
      "cell_type": "markdown",
      "metadata": {
        "id": "uCbFIIgMnzou"
      },
      "source": [
        "# Home Work 01\n",
        "1. Numpy\n",
        "1. Pytorch (tensor (basic operations))"
      ]
    },
    {
      "cell_type": "markdown",
      "metadata": {
        "id": "1dAwkcjDnzov"
      },
      "source": [
        "# DEADLINE\n",
        "\n",
        "### IS-142 - 08.10.24\n",
        "### IS-141 - 15.10.24"
      ]
    },
    {
      "cell_type": "markdown",
      "metadata": {
        "id": "l0KNNu2knzov"
      },
      "source": [
        "## BLOKE №1 (numpy)"
      ]
    },
    {
      "cell_type": "markdown",
      "metadata": {
        "id": "g82K6QSwnzow"
      },
      "source": [
        "1. Импортировать NumPy под именем np"
      ]
    },
    {
      "cell_type": "code",
      "execution_count": 1,
      "metadata": {
        "id": "MD_v_q-rnzow"
      },
      "outputs": [],
      "source": [
        "# Write your code\n",
        "import numpy as np"
      ]
    },
    {
      "cell_type": "markdown",
      "metadata": {
        "id": "lqe3ETXlnzow"
      },
      "source": [
        "2. Создать вектор (одномерный массив) размера 20, заполненный нулями"
      ]
    },
    {
      "cell_type": "code",
      "execution_count": 6,
      "metadata": {
        "colab": {
          "base_uri": "https://localhost:8080/"
        },
        "id": "qDTZJ4tLnzow",
        "outputId": "3a41e5c6-601d-4e80-f6ee-eff213eb7922"
      },
      "outputs": [
        {
          "output_type": "stream",
          "name": "stdout",
          "text": [
            "[0. 0. 0. 0. 0. 0. 0. 0. 0. 0. 0. 0. 0. 0. 0. 0. 0. 0. 0. 0.]\n"
          ]
        }
      ],
      "source": [
        "# Write your code\n",
        "vector_zeros = np.zeros(20)\n",
        "print(vector_zeros)"
      ]
    },
    {
      "cell_type": "markdown",
      "metadata": {
        "id": "Nn3Obm32nzow"
      },
      "source": [
        "3. Создать вектор размера 20, заполненный числом 1.75"
      ]
    },
    {
      "cell_type": "code",
      "execution_count": 7,
      "metadata": {
        "colab": {
          "base_uri": "https://localhost:8080/"
        },
        "id": "WhMhVOxKnzox",
        "outputId": "a80f1ac8-a1c8-462c-9eb6-36eba4f018a0"
      },
      "outputs": [
        {
          "output_type": "stream",
          "name": "stdout",
          "text": [
            "[1.75 1.75 1.75 1.75 1.75 1.75 1.75 1.75 1.75 1.75 1.75 1.75 1.75 1.75\n",
            " 1.75 1.75 1.75 1.75 1.75 1.75]\n"
          ]
        }
      ],
      "source": [
        "# Write your code\n",
        "vector_full = np.full(20, 1.75)\n",
        "print(vector_full)"
      ]
    },
    {
      "cell_type": "markdown",
      "metadata": {
        "id": "MJS4aDqrnzox"
      },
      "source": [
        "4. Создать вектор со значениями от 4 до 31"
      ]
    },
    {
      "cell_type": "code",
      "execution_count": 8,
      "metadata": {
        "colab": {
          "base_uri": "https://localhost:8080/"
        },
        "id": "OV5kxDkNnzox",
        "outputId": "f794f7f8-60ab-4f47-f3d5-b717184de12d"
      },
      "outputs": [
        {
          "output_type": "stream",
          "name": "stdout",
          "text": [
            "[ 4  5  6  7  8  9 10 11 12 13 14 15 16 17 18 19 20 21 22 23 24 25 26 27\n",
            " 28 29 30 31]\n"
          ]
        }
      ],
      "source": [
        "# Write your code\n",
        "vector_arange = np.arange(4, 32)\n",
        "print(vector_arange)"
      ]
    },
    {
      "cell_type": "markdown",
      "metadata": {
        "id": "cXmxps9fnzox"
      },
      "source": [
        "5. Развернуть вектор (первый становится последним)"
      ]
    },
    {
      "cell_type": "code",
      "execution_count": 9,
      "metadata": {
        "colab": {
          "base_uri": "https://localhost:8080/"
        },
        "id": "v-Kx1v2onzox",
        "outputId": "abe99033-314b-4ced-b010-5dd8f8ce0a61"
      },
      "outputs": [
        {
          "output_type": "stream",
          "name": "stdout",
          "text": [
            "[31 30 29 28 27 26 25 24 23 22 21 20 19 18 17 16 15 14 13 12 11 10  9  8\n",
            "  7  6  5  4]\n"
          ]
        }
      ],
      "source": [
        "# Write your code\n",
        "vector_reversed = vector_arange[::-1]\n",
        "print(vector_reversed)"
      ]
    },
    {
      "cell_type": "markdown",
      "metadata": {
        "id": "SGesD7Twnzox"
      },
      "source": [
        "6. Создать матрицу (двумерный массив) 3x3 со значениями от 1 до 9"
      ]
    },
    {
      "cell_type": "code",
      "execution_count": 10,
      "metadata": {
        "colab": {
          "base_uri": "https://localhost:8080/"
        },
        "id": "gUz9Yevrnzox",
        "outputId": "5978efbc-19d4-47ec-deb9-75dd09c8c726"
      },
      "outputs": [
        {
          "output_type": "stream",
          "name": "stdout",
          "text": [
            "[[1 2 3]\n",
            " [4 5 6]\n",
            " [7 8 9]]\n"
          ]
        }
      ],
      "source": [
        "# Write your code\n",
        "matrix_3x3 = np.arange(1, 10).reshape(3, 3)\n",
        "print(matrix_3x3)"
      ]
    },
    {
      "cell_type": "markdown",
      "metadata": {
        "id": "euCmpAgqnzox"
      },
      "source": [
        "7. Создать 3x3 единичную матрицу"
      ]
    },
    {
      "cell_type": "code",
      "execution_count": 11,
      "metadata": {
        "colab": {
          "base_uri": "https://localhost:8080/"
        },
        "id": "5Np1VphUnzox",
        "outputId": "513ad8a9-5fd3-4a34-b5cf-11d7f7fe768a"
      },
      "outputs": [
        {
          "output_type": "stream",
          "name": "stdout",
          "text": [
            "[[1. 0. 0.]\n",
            " [0. 1. 0.]\n",
            " [0. 0. 1.]]\n"
          ]
        }
      ],
      "source": [
        "# Write your code\n",
        "identity_matrix = np.eye(3)\n",
        "print(identity_matrix)"
      ]
    },
    {
      "cell_type": "markdown",
      "metadata": {
        "id": "OyI42c4snzox"
      },
      "source": [
        "8. Создать 4x4 пустую матрицу"
      ]
    },
    {
      "cell_type": "code",
      "execution_count": 12,
      "metadata": {
        "colab": {
          "base_uri": "https://localhost:8080/"
        },
        "id": "pO6_eroonzox",
        "outputId": "dc90f4ea-dae3-4b3c-c2fa-0839e4c99f50"
      },
      "outputs": [
        {
          "output_type": "stream",
          "name": "stdout",
          "text": [
            "[[0. 0. 0. 0.]\n",
            " [0. 0. 0. 0.]\n",
            " [0. 0. 0. 0.]\n",
            " [0. 0. 0. 0.]]\n"
          ]
        }
      ],
      "source": [
        "# Write your code\n",
        "empty_matrix = np.zeros((4, 4))\n",
        "print(empty_matrix)"
      ]
    },
    {
      "cell_type": "markdown",
      "metadata": {
        "id": "4jO_tpX9nzox"
      },
      "source": [
        "9. Создать единичную матрицу 4x4 со сдвигом на единицу вниз относительно главной диагонали"
      ]
    },
    {
      "cell_type": "code",
      "execution_count": 14,
      "metadata": {
        "colab": {
          "base_uri": "https://localhost:8080/"
        },
        "id": "c1J_MY0Inzoy",
        "outputId": "5bfdfee8-2645-43ca-cf87-bb0edc75b87b"
      },
      "outputs": [
        {
          "output_type": "stream",
          "name": "stdout",
          "text": [
            "[[0. 0. 0. 0.]\n",
            " [1. 0. 0. 0.]\n",
            " [0. 1. 0. 0.]\n",
            " [0. 0. 1. 0.]]\n"
          ]
        }
      ],
      "source": [
        "# Write your code\n",
        "shifted_identity = np.eye(4, k=-1)\n",
        "print(shifted_identity)"
      ]
    },
    {
      "cell_type": "markdown",
      "metadata": {
        "id": "oLyeaM3Cnzoy"
      },
      "source": [
        "10. Создать тензор 3x3x3 со случайными значениями"
      ]
    },
    {
      "cell_type": "code",
      "execution_count": 15,
      "metadata": {
        "colab": {
          "base_uri": "https://localhost:8080/"
        },
        "id": "AUlqednYnzoy",
        "outputId": "e8a81e01-b634-44be-803e-1425e3c8ae71"
      },
      "outputs": [
        {
          "output_type": "stream",
          "name": "stdout",
          "text": [
            "[[[0.43457307 0.1664722  0.24344954]\n",
            "  [0.14972192 0.41973088 0.78192712]\n",
            "  [0.76765879 0.29257997 0.75065377]]\n",
            "\n",
            " [[0.94626676 0.56470064 0.38840578]\n",
            "  [0.80781646 0.62057635 0.18254387]\n",
            "  [0.07572474 0.11945489 0.97578572]]\n",
            "\n",
            " [[0.84922716 0.83873549 0.22333872]\n",
            "  [0.1210272  0.68698905 0.07659615]\n",
            "  [0.48326752 0.24230146 0.35615424]]]\n"
          ]
        }
      ],
      "source": [
        "# Write your code\n",
        "random_tensor = np.random.rand(3, 3, 3)\n",
        "print(random_tensor)"
      ]
    },
    {
      "cell_type": "markdown",
      "metadata": {
        "id": "co3v8in0nzoy"
      },
      "source": [
        "11. Создать массив 5x5 со случайными значениями, найти минимум и максимум"
      ]
    },
    {
      "cell_type": "code",
      "execution_count": 17,
      "metadata": {
        "colab": {
          "base_uri": "https://localhost:8080/"
        },
        "id": "UPqcUXTTnzoy",
        "outputId": "d27a1414-3c83-4553-b5c6-2766c4f96a05"
      },
      "outputs": [
        {
          "output_type": "stream",
          "name": "stdout",
          "text": [
            "0.028193469421243122\n",
            "0.9983893410421437\n",
            "[[0.97930696 0.07892483 0.45738531 0.17110894 0.09725037]\n",
            " [0.54880996 0.02819347 0.35946654 0.12697494 0.2376002 ]\n",
            " [0.11319175 0.66447527 0.6741015  0.84263717 0.3929714 ]\n",
            " [0.48240512 0.99838934 0.70659659 0.6278656  0.57723791]\n",
            " [0.48749716 0.3838092  0.53928003 0.39649936 0.10839035]]\n"
          ]
        }
      ],
      "source": [
        "# Write your code\n",
        "random_matrix = np.random.rand(5, 5)\n",
        "min_val, max_val = random_matrix.min(), random_matrix.max()\n",
        "print(min_val)\n",
        "print(max_val)\n",
        "print(random_matrix)"
      ]
    },
    {
      "cell_type": "markdown",
      "metadata": {
        "id": "6MGG9eJXnzoy"
      },
      "source": [
        "12. Создать случайный вектор размера 50 и найти среднее значение всех элементов"
      ]
    },
    {
      "cell_type": "code",
      "execution_count": 19,
      "metadata": {
        "colab": {
          "base_uri": "https://localhost:8080/"
        },
        "id": "wyMw0eX5nzoy",
        "outputId": "87b713ca-4823-447d-ca07-4579f7bd55f6"
      },
      "outputs": [
        {
          "output_type": "stream",
          "name": "stdout",
          "text": [
            "[0.9687015  0.066489   0.38116568 0.0933715  0.8743524  0.40141007\n",
            " 0.3892248  0.6545231  0.88344626 0.72891024 0.34373079 0.47086244\n",
            " 0.45112932 0.36913879 0.89348232 0.92854732 0.42933712 0.47333887\n",
            " 0.92530267 0.84441729 0.3175788  0.94366216 0.37715039 0.30342351\n",
            " 0.78025894 0.330433   0.85839365 0.95919444 0.9610281  0.01071031\n",
            " 0.62643908 0.33488936 0.88939758 0.93108735 0.92507579 0.74816173\n",
            " 0.15830871 0.76628659 0.19527958 0.89448218 0.48823923 0.64902952\n",
            " 0.77259733 0.62609605 0.90019439 0.1604755  0.32469547 0.80679162\n",
            " 0.86549198 0.91104706]\n",
            "0.6077356174982266\n"
          ]
        }
      ],
      "source": [
        "# Write your code\n",
        "random_vector = np.random.rand(50)\n",
        "mean_value = random_vector.mean()\n",
        "print(random_vector)\n",
        "print(mean_value)"
      ]
    },
    {
      "cell_type": "markdown",
      "metadata": {
        "id": "f92FPaD8nzoy"
      },
      "source": [
        "13. Создать матрицу с 0 внутри, и 1 на границах"
      ]
    },
    {
      "cell_type": "code",
      "execution_count": 22,
      "metadata": {
        "colab": {
          "base_uri": "https://localhost:8080/"
        },
        "id": "t5E3OdYFnzoy",
        "outputId": "25ff4b89-41f1-4daa-f7b0-9947a895466a"
      },
      "outputs": [
        {
          "output_type": "stream",
          "name": "stdout",
          "text": [
            "[[1. 1. 1. 1. 1.]\n",
            " [1. 0. 0. 0. 1.]\n",
            " [1. 0. 0. 0. 1.]\n",
            " [1. 0. 0. 0. 1.]\n",
            " [1. 1. 1. 1. 1.]]\n"
          ]
        }
      ],
      "source": [
        "# Write your code\n",
        "def create_bordered_matrix(size=5):\n",
        "    mat = np.zeros((size, size))\n",
        "    mat[[0, -1], :] = 1\n",
        "    mat[:, [0, -1]] = 1\n",
        "    return mat\n",
        "bordered_matrix = create_bordered_matrix()\n",
        "print(bordered_matrix)"
      ]
    },
    {
      "cell_type": "markdown",
      "metadata": {
        "id": "Inr5Ngp_nzoy"
      },
      "source": [
        "14. Создать 5x5 матрицу с 1,2,3,4 под диагональю"
      ]
    },
    {
      "cell_type": "code",
      "execution_count": 23,
      "metadata": {
        "colab": {
          "base_uri": "https://localhost:8080/"
        },
        "id": "vrYCp0aMnzoy",
        "outputId": "4a2d2548-a818-4d35-8abf-e9750c39539f"
      },
      "outputs": [
        {
          "output_type": "stream",
          "name": "stdout",
          "text": [
            "[[0 0 0 0 0]\n",
            " [1 0 0 0 0]\n",
            " [0 2 0 0 0]\n",
            " [0 0 3 0 0]\n",
            " [0 0 0 4 0]]\n"
          ]
        }
      ],
      "source": [
        "# Write your code\n",
        "diag_matrix = np.diag([1, 2, 3, 4], k=-1)\n",
        "print(diag_matrix)"
      ]
    },
    {
      "cell_type": "markdown",
      "metadata": {
        "id": "de89OviEnzoy"
      },
      "source": [
        "15. Перемножить матрицы 5x3 и 3x2"
      ]
    },
    {
      "cell_type": "code",
      "execution_count": 26,
      "metadata": {
        "colab": {
          "base_uri": "https://localhost:8080/"
        },
        "id": "OZKQoEysnzoy",
        "outputId": "bb1a4ca4-4454-4551-dc5b-4fa39e9ad0d7"
      },
      "outputs": [
        {
          "output_type": "stream",
          "name": "stdout",
          "text": [
            "[[0.69394001 1.59828285]\n",
            " [0.53323558 0.87691927]\n",
            " [0.66182327 1.52306232]\n",
            " [0.27811909 0.29562076]\n",
            " [0.34163104 0.68641737]]\n",
            "[[0.7235966  0.97885567]\n",
            " [0.05906784 0.97724394]\n",
            " [0.26802524 0.15800923]]\n",
            "[[6.76681256e-01 8.65293032e-01 5.71531094e-01]\n",
            " [6.30506138e-01 2.27444714e-01 2.37174727e-01]\n",
            " [7.40656663e-01 7.68076885e-01 3.00411949e-01]\n",
            " [2.37767759e-01 3.69472356e-04 3.95669160e-01]\n",
            " [8.90122165e-02 4.62485345e-01 9.32390165e-01]]\n"
          ]
        }
      ],
      "source": [
        "# Write your code\n",
        "mat1 = np.random.rand(5, 3)\n",
        "mat2 = np.random.rand(3, 2)\n",
        "matmul_result = np.dot(mat1, mat2)\n",
        "print(matmul_result)\n",
        "print(mat2)\n",
        "print(mat1)"
      ]
    },
    {
      "cell_type": "markdown",
      "metadata": {
        "id": "sZZcTcQCnzoy"
      },
      "source": [
        "16. Создать вектор состоящий из 15 элементов, поменять знак у элементов, значения которых между 6 и 12"
      ]
    },
    {
      "cell_type": "code",
      "execution_count": 27,
      "metadata": {
        "colab": {
          "base_uri": "https://localhost:8080/"
        },
        "id": "-C1FlrnSnzoy",
        "outputId": "a7ccd4b1-5131-44e2-890e-72947dbc75e0"
      },
      "outputs": [
        {
          "output_type": "stream",
          "name": "stdout",
          "text": [
            "[  0   1   2   3   4   5   6  -7  -8  -9 -10 -11  12  13  14]\n"
          ]
        }
      ],
      "source": [
        "# Write your code\n",
        "vec = np.arange(15)\n",
        "vec[(vec > 6) & (vec < 12)] *= -1\n",
        "print(vec)"
      ]
    },
    {
      "cell_type": "markdown",
      "metadata": {
        "id": "XHsxb4Dtnzoy"
      },
      "source": [
        "17. Создать 2 матрицы A(3x3) и B(3x3), получить матрицу С путем поэлеметного умножения."
      ]
    },
    {
      "cell_type": "code",
      "execution_count": 28,
      "metadata": {
        "colab": {
          "base_uri": "https://localhost:8080/"
        },
        "id": "4YK1KNvtnzoy",
        "outputId": "58298e30-0c92-467d-edc7-fa99e1f522ac"
      },
      "outputs": [
        {
          "output_type": "stream",
          "name": "stdout",
          "text": [
            "[[0.60676794 0.89147414 0.11173092]\n",
            " [0.45780143 0.84097247 0.94160956]\n",
            " [0.96539521 0.8186217  0.36337683]]\n",
            "[[0.68987041 0.17218008 0.7268869 ]\n",
            " [0.35297054 0.35724133 0.59528621]\n",
            " [0.69985025 0.35715098 0.78315408]]\n",
            "[[0.41859125 0.15349409 0.08121574]\n",
            " [0.16159042 0.30043013 0.56052718]\n",
            " [0.67563208 0.29237155 0.28458005]]\n"
          ]
        }
      ],
      "source": [
        "# Write your code\n",
        "A = np.random.rand(3, 3)\n",
        "B = np.random.rand(3, 3)\n",
        "C = A * B\n",
        "print(A)\n",
        "print(B)\n",
        "print(C)"
      ]
    },
    {
      "cell_type": "markdown",
      "metadata": {
        "id": "tOJSMmxunzoy"
      },
      "source": [
        "18. Найти максимальные и минимальные значения матрицы С по строкам и столбцам"
      ]
    },
    {
      "cell_type": "code",
      "execution_count": 30,
      "metadata": {
        "colab": {
          "base_uri": "https://localhost:8080/"
        },
        "id": "r1fxdOGfnzoy",
        "outputId": "6b6a1cb6-87c7-4709-9639-f3f4d954e331"
      },
      "outputs": [
        {
          "output_type": "stream",
          "name": "stdout",
          "text": [
            "[0.41859125 0.56052718 0.67563208]\n",
            "[0.16159042 0.15349409 0.08121574]\n"
          ]
        }
      ],
      "source": [
        "# Write your code\n",
        "max_rows = C.max(axis=1)\n",
        "min_cols = C.min(axis=0)\n",
        "print(max_rows)\n",
        "print(min_cols)"
      ]
    },
    {
      "cell_type": "markdown",
      "metadata": {
        "id": "I9mqXfllnzo2"
      },
      "source": [
        "19. Создать вектор со значениями от 0 до 1 c 10 наблюдениями"
      ]
    },
    {
      "cell_type": "code",
      "execution_count": 31,
      "metadata": {
        "colab": {
          "base_uri": "https://localhost:8080/"
        },
        "id": "QGYL4fREnzo3",
        "outputId": "6e0d7124-2b16-429c-d10a-c1b2fc95b57b"
      },
      "outputs": [
        {
          "output_type": "stream",
          "name": "stdout",
          "text": [
            "[0.         0.11111111 0.22222222 0.33333333 0.44444444 0.55555556\n",
            " 0.66666667 0.77777778 0.88888889 1.        ]\n"
          ]
        }
      ],
      "source": [
        "# Write your code\n",
        "linspace_vec = np.linspace(0, 1, 10)\n",
        "print(linspace_vec)"
      ]
    },
    {
      "cell_type": "markdown",
      "metadata": {
        "id": "MQ7OTe4snzo3"
      },
      "source": [
        "20. Отсортировать вектор"
      ]
    },
    {
      "cell_type": "code",
      "execution_count": 32,
      "metadata": {
        "colab": {
          "base_uri": "https://localhost:8080/"
        },
        "id": "5MGLg9rsnzo3",
        "outputId": "3df9f640-c6ea-4149-dc4f-5f9b61e13725"
      },
      "outputs": [
        {
          "output_type": "stream",
          "name": "stdout",
          "text": [
            "[0.         0.11111111 0.22222222 0.33333333 0.44444444 0.55555556\n",
            " 0.66666667 0.77777778 0.88888889 1.        ]\n"
          ]
        }
      ],
      "source": [
        "# Write your code\n",
        "sorted_vec = np.sort(linspace_vec)\n",
        "print(sorted_vec)"
      ]
    },
    {
      "cell_type": "markdown",
      "metadata": {
        "id": "CJ5EJLHynzo3"
      },
      "source": [
        "21. Проверить, одинаковы ли 2 numpy массива"
      ]
    },
    {
      "cell_type": "code",
      "execution_count": 33,
      "metadata": {
        "colab": {
          "base_uri": "https://localhost:8080/"
        },
        "id": "FgF8MMkHnzo3",
        "outputId": "104147d4-03c5-4c53-f277-b695c9b4f3c1"
      },
      "outputs": [
        {
          "output_type": "stream",
          "name": "stdout",
          "text": [
            "[1 2 3]\n",
            "[1 2 3]\n",
            "True\n"
          ]
        }
      ],
      "source": [
        "# Write your code\n",
        "arr1 = np.array([1, 2, 3])\n",
        "arr2 = np.array([1, 2, 3])\n",
        "are_equal = np.array_equal(arr1, arr2)\n",
        "print(arr1)\n",
        "print(arr2)\n",
        "print(are_equal)"
      ]
    },
    {
      "cell_type": "markdown",
      "metadata": {
        "id": "BGOgROCFnzo3"
      },
      "source": [
        "22. Сделать массив неизменяемым"
      ]
    },
    {
      "cell_type": "code",
      "execution_count": null,
      "metadata": {
        "id": "hcGdaYqMnzo3"
      },
      "outputs": [],
      "source": [
        "# Write your code\n",
        "arr = np.array([1, 2, 3])\n",
        "arr.flags.writeable = False\n"
      ]
    },
    {
      "cell_type": "markdown",
      "metadata": {
        "id": "I224W0Wonzo3"
      },
      "source": [
        "23. Создать случайный вектор из 20 элементов, найти квантиль от 10% и от 80%"
      ]
    },
    {
      "cell_type": "code",
      "execution_count": 34,
      "metadata": {
        "colab": {
          "base_uri": "https://localhost:8080/"
        },
        "id": "xYMf6cTnnzo3",
        "outputId": "8ba5761e-6e6a-4f6f-a183-1428f2cd5f52"
      },
      "outputs": [
        {
          "output_type": "stream",
          "name": "stdout",
          "text": [
            "[0.37528277 0.42171876 0.92876746 0.18494312 0.70374578 0.37891692\n",
            " 0.48608092 0.37815379 0.41178222 0.73552872 0.19020569 0.64132856\n",
            " 0.81405947 0.97975868 0.46124201 0.21250692 0.24786921 0.57231532\n",
            " 0.54367053 0.96520514]\n",
            "[0.2102768  0.75123487]\n"
          ]
        }
      ],
      "source": [
        "# Write your code\n",
        "random_vec = np.random.rand(20)\n",
        "quantiles = np.quantile(random_vec, [0.1, 0.8])\n",
        "print(random_vec)\n",
        "print(quantiles)"
      ]
    },
    {
      "cell_type": "markdown",
      "metadata": {
        "id": "RYJdrzdEnzo3"
      },
      "source": [
        "24. Создать массив любой размерности состоящий из int и string"
      ]
    },
    {
      "cell_type": "code",
      "execution_count": 35,
      "metadata": {
        "colab": {
          "base_uri": "https://localhost:8080/"
        },
        "id": "VqfSG_qDnzo3",
        "outputId": "ecdcceb5-ab25-4f1e-e349-3ce15230be8e"
      },
      "outputs": [
        {
          "output_type": "stream",
          "name": "stdout",
          "text": [
            "[1 'text']\n"
          ]
        }
      ],
      "source": [
        "# Write your code\n",
        "mixed_array = np.array([1, 'text'], dtype=object)\n",
        "print(mixed_array)"
      ]
    },
    {
      "cell_type": "markdown",
      "metadata": {
        "id": "ydvuAap5nzo3"
      },
      "source": [
        "25. Найти минимальное и максимальное значение, принимаемое каждым числовым типом numpy"
      ]
    },
    {
      "cell_type": "code",
      "execution_count": 36,
      "metadata": {
        "colab": {
          "base_uri": "https://localhost:8080/"
        },
        "id": "1PJHDd6hnzo3",
        "outputId": "3197ef17-8410-45f4-d16d-86a723f7eef9"
      },
      "outputs": [
        {
          "output_type": "stream",
          "name": "stdout",
          "text": [
            "-2147483648\n",
            "2147483647\n"
          ]
        }
      ],
      "source": [
        "# Write your code\n",
        "int32_min = np.iinfo(np.int32).min\n",
        "int32_max = np.iinfo(np.int32).max\n",
        "print(int32_min)\n",
        "print(int32_max)"
      ]
    },
    {
      "cell_type": "markdown",
      "metadata": {
        "id": "jKd8Gf5Jnzo3"
      },
      "source": [
        "26. Преобразовать массив из float в int"
      ]
    },
    {
      "cell_type": "code",
      "execution_count": 37,
      "metadata": {
        "colab": {
          "base_uri": "https://localhost:8080/"
        },
        "id": "zUbyy73unzo3",
        "outputId": "26165d19-04bb-4a26-c2be-aa109e589aa4"
      },
      "outputs": [
        {
          "output_type": "stream",
          "name": "stdout",
          "text": [
            "[1 2]\n"
          ]
        }
      ],
      "source": [
        "# Write your code\n",
        "float_array = np.array([1.5, 2.7])\n",
        "int_array = float_array.astype(int)\n",
        "print(int_array)"
      ]
    },
    {
      "cell_type": "markdown",
      "metadata": {
        "id": "MoG4C5kVnzo3"
      },
      "source": [
        "27. Отнять среднее из каждой строки в матрице"
      ]
    },
    {
      "cell_type": "code",
      "execution_count": 39,
      "metadata": {
        "colab": {
          "base_uri": "https://localhost:8080/"
        },
        "id": "9UTDhYrvnzo4",
        "outputId": "28ee782b-e298-464c-be30-d880f12e3a0a"
      },
      "outputs": [
        {
          "output_type": "stream",
          "name": "stdout",
          "text": [
            "[[0.19827535 0.31185461 0.83612126]\n",
            " [0.74274179 0.43267744 0.831695  ]\n",
            " [0.65949658 0.9782561  0.54694131]]\n",
            "[[-0.25047506 -0.13689579  0.38737085]\n",
            " [ 0.07370371 -0.23636064  0.16265692]\n",
            " [-0.06873475  0.25002477 -0.18129002]]\n"
          ]
        }
      ],
      "source": [
        "# Write your code\n",
        "matrix = np.random.rand(3, 3)\n",
        "matrix_centered = matrix - matrix.mean(axis=1, keepdims=True)\n",
        "print(matrix)\n",
        "print(matrix_centered)"
      ]
    },
    {
      "cell_type": "markdown",
      "metadata": {
        "id": "icbQKC1pnzo4"
      },
      "source": [
        "28.\n",
        "\n",
        "Дана данные из файла.\n",
        "\n",
        "1,2,3,4,5\n",
        "\n",
        "6,,,7,8\n",
        "\n",
        ",,9,10,11\n",
        "\n",
        "Необходимо прочитать его\n"
      ]
    },
    {
      "cell_type": "code",
      "execution_count": 45,
      "metadata": {
        "colab": {
          "base_uri": "https://localhost:8080/"
        },
        "id": "4Ls6GeAinzo4",
        "outputId": "9052161d-5a55-4c19-e8c4-c204ce51b479"
      },
      "outputs": [
        {
          "output_type": "stream",
          "name": "stdout",
          "text": [
            "[[ 1.  2.  3.  4.  5.]\n",
            " [ 6. -1. -1.  7.  8.]\n",
            " [-1. -1.  9. 10. 11.]]\n"
          ]
        }
      ],
      "source": [
        "# Write your code\n",
        "from io import StringIO\n",
        "data = StringIO(\"1,2,3,4,5\\n6,,,7,8\\n,,9,10,11\")\n",
        "loaded_data = np.genfromtxt(data, delimiter=',', filling_values=-1)\n",
        "print(loaded_data)\n"
      ]
    },
    {
      "cell_type": "markdown",
      "metadata": {
        "id": "cQr--5Benzo4"
      },
      "source": [
        "29. Посчитайте сумму квадратов натуральных чисел от 1 до 10000."
      ]
    },
    {
      "cell_type": "code",
      "execution_count": 46,
      "metadata": {
        "colab": {
          "base_uri": "https://localhost:8080/"
        },
        "id": "03o4Nl-Wnzo4",
        "outputId": "f065fdd5-80a0-4c13-cafd-562f35298277"
      },
      "outputs": [
        {
          "output_type": "stream",
          "name": "stdout",
          "text": [
            "333383335000\n"
          ]
        }
      ],
      "source": [
        "# Write your code\n",
        "sum_squares = np.sum(np.arange(1, 10001)**2)\n",
        "print(sum_squares)"
      ]
    },
    {
      "cell_type": "markdown",
      "metadata": {
        "id": "kVN_T4wvnzo4"
      },
      "source": [
        "## BLOKE №2 (tensors)"
      ]
    },
    {
      "cell_type": "markdown",
      "metadata": {
        "id": "YyvcfnUrnzo4"
      },
      "source": [
        "1. Импортируйте pytorch"
      ]
    },
    {
      "cell_type": "code",
      "execution_count": 51,
      "metadata": {
        "id": "XIYUS30onzo4"
      },
      "outputs": [],
      "source": [
        "# Write your code\n",
        "import torch"
      ]
    },
    {
      "cell_type": "markdown",
      "metadata": {
        "id": "PPOj654-nzo4"
      },
      "source": [
        "2. Создать вектор состящий из 10 элементов"
      ]
    },
    {
      "cell_type": "code",
      "execution_count": 52,
      "metadata": {
        "colab": {
          "base_uri": "https://localhost:8080/"
        },
        "id": "ML6hXDLjnzo4",
        "outputId": "c3481a41-cb4c-4cab-9ee4-cf748b3c7dec"
      },
      "outputs": [
        {
          "output_type": "stream",
          "name": "stdout",
          "text": [
            "tensor([0, 1, 2, 3, 4, 5, 6, 7, 8, 9])\n"
          ]
        }
      ],
      "source": [
        "# Write your code\n",
        "torch_vector = torch.arange(10)\n",
        "print(torch_vector)"
      ]
    },
    {
      "cell_type": "markdown",
      "metadata": {
        "id": "F8waOQsrnzo4"
      },
      "source": [
        "3. Создать тензор из python list"
      ]
    },
    {
      "cell_type": "code",
      "execution_count": 53,
      "metadata": {
        "colab": {
          "base_uri": "https://localhost:8080/"
        },
        "id": "weBRQkhinzo4",
        "outputId": "3c73950c-6d4b-43d1-f1ca-5e98df089afe"
      },
      "outputs": [
        {
          "output_type": "stream",
          "name": "stdout",
          "text": [
            "tensor([1, 2, 3])\n"
          ]
        }
      ],
      "source": [
        "# Write your code\n",
        "torch_from_list = torch.tensor([1, 2, 3])\n",
        "print(torch_from_list)"
      ]
    },
    {
      "cell_type": "markdown",
      "metadata": {
        "id": "FmOjgmBUnzo4"
      },
      "source": [
        "4. Создать тензор из np.array"
      ]
    },
    {
      "cell_type": "code",
      "execution_count": 54,
      "metadata": {
        "colab": {
          "base_uri": "https://localhost:8080/"
        },
        "id": "fjhq1_nOnzo4",
        "outputId": "bc766e78-5510-4974-fe7b-71a13226ee83"
      },
      "outputs": [
        {
          "output_type": "stream",
          "name": "stdout",
          "text": [
            "tensor([4, 5, 6])\n"
          ]
        }
      ],
      "source": [
        "# Write your code\n",
        "np_array = np.array([4, 5, 6])\n",
        "torch_from_np = torch.from_numpy(np_array)\n",
        "print(torch_from_np)"
      ]
    },
    {
      "cell_type": "markdown",
      "metadata": {
        "id": "c4aZXOm0nzo4"
      },
      "source": [
        "5. Создать тензор с нормальным распределением"
      ]
    },
    {
      "cell_type": "code",
      "execution_count": 60,
      "metadata": {
        "colab": {
          "base_uri": "https://localhost:8080/"
        },
        "id": "OSEMpaJHnzo4",
        "outputId": "6bc9ae43-fbe7-4f37-9c19-d686ea059375"
      },
      "outputs": [
        {
          "output_type": "stream",
          "name": "stdout",
          "text": [
            "tensor([[ 0.9257, -2.3355,  1.1111],\n",
            "        [ 0.9939,  1.9879,  1.2612],\n",
            "        [-0.3402,  2.0206, -0.6884]])\n"
          ]
        }
      ],
      "source": [
        "# Write your code\n",
        "normal_tensor = torch.randn(3, 3)\n",
        "print(normal_tensor)"
      ]
    },
    {
      "cell_type": "markdown",
      "metadata": {
        "id": "troZDbO0nzo4"
      },
      "source": [
        "6. Создать тензор размером 3х3х3"
      ]
    },
    {
      "cell_type": "code",
      "execution_count": 61,
      "metadata": {
        "colab": {
          "base_uri": "https://localhost:8080/"
        },
        "id": "FSht74_qnzo5",
        "outputId": "c2ade4d6-8a4e-4fc5-f90e-e1f06dbb712b"
      },
      "outputs": [
        {
          "output_type": "stream",
          "name": "stdout",
          "text": [
            "tensor([[[0.0553, 0.6418, 0.6555],\n",
            "         [0.7275, 0.4490, 0.4780],\n",
            "         [0.8767, 0.1354, 0.3209]],\n",
            "\n",
            "        [[0.1781, 0.3400, 0.1884],\n",
            "         [0.8770, 0.3055, 0.5839],\n",
            "         [0.9856, 0.9729, 0.7332]],\n",
            "\n",
            "        [[0.9730, 0.5003, 0.8349],\n",
            "         [0.1819, 0.8991, 0.5885],\n",
            "         [0.3735, 0.9831, 0.7751]]])\n"
          ]
        }
      ],
      "source": [
        "# Write your code\n",
        "tensor_3x3x3 = torch.rand(3, 3, 3)\n",
        "print(tensor_3x3x3)"
      ]
    },
    {
      "cell_type": "markdown",
      "metadata": {
        "id": "jXjGc6Xpnzo5"
      },
      "source": [
        "7. Создать единичную матрицу размером 4х5"
      ]
    },
    {
      "cell_type": "code",
      "execution_count": 62,
      "metadata": {
        "colab": {
          "base_uri": "https://localhost:8080/"
        },
        "id": "GyWKndjhnzo5",
        "outputId": "8ba85eaf-aaf7-4535-9d68-f046a0521d8a"
      },
      "outputs": [
        {
          "output_type": "stream",
          "name": "stdout",
          "text": [
            "tensor([[1., 0., 0., 0., 0.],\n",
            "        [0., 1., 0., 0., 0.],\n",
            "        [0., 0., 1., 0., 0.],\n",
            "        [0., 0., 0., 1., 0.]])\n"
          ]
        }
      ],
      "source": [
        "# Write your code\n",
        "eye_matrix = torch.eye(4, 5)\n",
        "print(eye_matrix)"
      ]
    },
    {
      "cell_type": "markdown",
      "metadata": {
        "id": "X-GHnem5nzo5"
      },
      "source": [
        "8. Создать вектор размера 25, заполнить елементами со значениме pi"
      ]
    },
    {
      "cell_type": "code",
      "execution_count": 63,
      "metadata": {
        "colab": {
          "base_uri": "https://localhost:8080/"
        },
        "id": "VvM9BLEqnzo5",
        "outputId": "422ffc6c-2d5c-4125-b726-0d40e5ca5e4c"
      },
      "outputs": [
        {
          "output_type": "stream",
          "name": "stdout",
          "text": [
            "tensor([3.1416, 3.1416, 3.1416, 3.1416, 3.1416, 3.1416, 3.1416, 3.1416, 3.1416,\n",
            "        3.1416, 3.1416, 3.1416, 3.1416, 3.1416, 3.1416, 3.1416, 3.1416, 3.1416,\n",
            "        3.1416, 3.1416, 3.1416, 3.1416, 3.1416, 3.1416, 3.1416])\n"
          ]
        }
      ],
      "source": [
        "# Write your code\n",
        "pi_vector = torch.full((25,), torch.pi)\n",
        "print(pi_vector)"
      ]
    },
    {
      "cell_type": "markdown",
      "metadata": {
        "id": "cZG-6-TYnzo5"
      },
      "source": [
        "9. Умножить матрицу размера 9, заполненная от 0 до 8, поэлементно на любое число"
      ]
    },
    {
      "cell_type": "code",
      "execution_count": 65,
      "metadata": {
        "colab": {
          "base_uri": "https://localhost:8080/"
        },
        "id": "elxB1U9nnzo5",
        "outputId": "ed99b43d-b9c8-45d4-cd66-f1336518bdea"
      },
      "outputs": [
        {
          "output_type": "stream",
          "name": "stdout",
          "text": [
            "tensor([[0, 1, 2],\n",
            "        [3, 4, 5],\n",
            "        [6, 7, 8]])\n",
            "tensor([[ 0.0000,  2.5000,  5.0000],\n",
            "        [ 7.5000, 10.0000, 12.5000],\n",
            "        [15.0000, 17.5000, 20.0000]])\n"
          ]
        }
      ],
      "source": [
        "# Write your code\n",
        "matrix_3x3 = torch.arange(9).reshape(3, 3)\n",
        "multiplied_matrix = matrix_3x3 * 2.5\n",
        "print(matrix_3x3)\n",
        "print(multiplied_matrix)"
      ]
    },
    {
      "cell_type": "markdown",
      "metadata": {
        "id": "XFieUP57nzo5"
      },
      "source": [
        "10. Создать произвольный тензор с типом данных int8"
      ]
    },
    {
      "cell_type": "code",
      "execution_count": 67,
      "metadata": {
        "colab": {
          "base_uri": "https://localhost:8080/"
        },
        "id": "g3kW38C7nzo5",
        "outputId": "b92d3e1e-44d9-416d-e941-53ced8a110b7"
      },
      "outputs": [
        {
          "output_type": "stream",
          "name": "stdout",
          "text": [
            "tensor([-5,  0,  5], dtype=torch.int8)\n"
          ]
        }
      ],
      "source": [
        "# Write your code\n",
        "int8_tensor = torch.tensor([-5, 0, 5], dtype=torch.int8)\n",
        "print(int8_tensor)"
      ]
    },
    {
      "cell_type": "markdown",
      "metadata": {
        "id": "AfM5SLiWnzo5"
      },
      "source": [
        "11. Изменить тип данных из пункта 10 на int64"
      ]
    },
    {
      "cell_type": "code",
      "execution_count": 68,
      "metadata": {
        "colab": {
          "base_uri": "https://localhost:8080/"
        },
        "id": "e3bM5Omenzo5",
        "outputId": "7ce28e74-99d1-41aa-98f1-56972d6c4720"
      },
      "outputs": [
        {
          "output_type": "stream",
          "name": "stdout",
          "text": [
            "tensor([-5,  0,  5])\n"
          ]
        }
      ],
      "source": [
        "# Write your code\n",
        "int64_tensor = int8_tensor.to(torch.int64)\n",
        "print(int64_tensor)"
      ]
    },
    {
      "cell_type": "markdown",
      "metadata": {
        "id": "xVxKE4zjnzo5"
      },
      "source": [
        "12. Создать случайный тензор размера 4x5 и найти среднее по 2му столбцу."
      ]
    },
    {
      "cell_type": "code",
      "execution_count": 69,
      "metadata": {
        "colab": {
          "base_uri": "https://localhost:8080/"
        },
        "id": "xIzPQihbnzo5",
        "outputId": "3cb7c169-66f6-4fcc-a313-e480c1af455c"
      },
      "outputs": [
        {
          "output_type": "stream",
          "name": "stdout",
          "text": [
            "tensor([[0.9932, 0.1824, 0.0241, 0.6647, 0.9127],\n",
            "        [0.3250, 0.4325, 0.8173, 0.1564, 0.1823],\n",
            "        [0.3077, 0.3230, 0.3551, 0.4551, 0.7347],\n",
            "        [0.6549, 0.5901, 0.0917, 0.9042, 0.6030]])\n",
            "tensor(0.3820)\n"
          ]
        }
      ],
      "source": [
        "# Write your code\n",
        "random_tensor_4x5 = torch.rand(4, 5)\n",
        "mean_col2 = random_tensor_4x5[:, 1].mean()\n",
        "print(random_tensor_4x5)\n",
        "print(mean_col2)"
      ]
    },
    {
      "cell_type": "markdown",
      "metadata": {
        "id": "rwhkuNGfnzo5"
      },
      "source": [
        "13. Создать пустой тензор произвольных размеров"
      ]
    },
    {
      "cell_type": "code",
      "execution_count": 70,
      "metadata": {
        "colab": {
          "base_uri": "https://localhost:8080/"
        },
        "id": "0X-uZAr8nzo5",
        "outputId": "6396af22-8a43-4d05-87e2-31d52512523e"
      },
      "outputs": [
        {
          "output_type": "stream",
          "name": "stdout",
          "text": [
            "tensor([[1.1653e+22, 4.3107e-41, 1.8178e-32],\n",
            "        [0.0000e+00, 4.4842e-44, 0.0000e+00]])\n"
          ]
        }
      ],
      "source": [
        "# Write your code\n",
        "empty_tensor = torch.empty(2, 3)\n",
        "print(empty_tensor)"
      ]
    },
    {
      "cell_type": "markdown",
      "metadata": {
        "id": "GdgZQBGBnzo5"
      },
      "source": [
        "14. Скалярно умножить 2 вектора"
      ]
    },
    {
      "cell_type": "code",
      "execution_count": 71,
      "metadata": {
        "colab": {
          "base_uri": "https://localhost:8080/"
        },
        "id": "qqGUyamEnzo5",
        "outputId": "c1a9f035-ae1a-4baa-895d-b11be4681518"
      },
      "outputs": [
        {
          "output_type": "stream",
          "name": "stdout",
          "text": [
            "tensor(32.)\n"
          ]
        }
      ],
      "source": [
        "# Write your code\n",
        "vec_a = torch.tensor([1.0, 2.0, 3.0])\n",
        "vec_b = torch.tensor([4.0, 5.0, 6.0])\n",
        "dot_product = torch.dot(vec_a, vec_b)\n",
        "print(dot_product)"
      ]
    },
    {
      "cell_type": "markdown",
      "metadata": {
        "id": "htLajb3Qnzo5"
      },
      "source": [
        "15. Умножить матрицу на вектор"
      ]
    },
    {
      "cell_type": "code",
      "execution_count": 72,
      "metadata": {
        "colab": {
          "base_uri": "https://localhost:8080/"
        },
        "id": "SPkh0JJ9nzo6",
        "outputId": "e56c22b4-184a-4917-fdf0-974f2c450e31"
      },
      "outputs": [
        {
          "output_type": "stream",
          "name": "stdout",
          "text": [
            "tensor([0.8352, 1.3545, 1.4546])\n"
          ]
        }
      ],
      "source": [
        "# Write your code\n",
        "matrix_3x3 = torch.rand(3, 3)\n",
        "vector_3 = torch.rand(3)\n",
        "mv_result = torch.mv(matrix_3x3, vector_3)\n",
        "print(mv_result)"
      ]
    },
    {
      "cell_type": "markdown",
      "metadata": {
        "id": "IrsCryalnzo6"
      },
      "source": [
        "16. Перемножить 2D матрицы"
      ]
    },
    {
      "cell_type": "code",
      "execution_count": 73,
      "metadata": {
        "colab": {
          "base_uri": "https://localhost:8080/"
        },
        "id": "aG_Cm6Aunzo6",
        "outputId": "a126a9e0-907d-4811-f669-6d62b9940915"
      },
      "outputs": [
        {
          "output_type": "stream",
          "name": "stdout",
          "text": [
            "tensor([[0.7138, 0.6793],\n",
            "        [1.2779, 1.0112]])\n"
          ]
        }
      ],
      "source": [
        "# Write your code\n",
        "mat_a = torch.rand(2, 3)\n",
        "mat_b = torch.rand(3, 2)\n",
        "matmul_result = torch.mm(mat_a, mat_b)\n",
        "print(matmul_result)"
      ]
    },
    {
      "cell_type": "markdown",
      "metadata": {
        "id": "DAmoGszenzo6"
      },
      "source": [
        "17. Перемножить 3D тензоры"
      ]
    },
    {
      "cell_type": "code",
      "execution_count": 74,
      "metadata": {
        "colab": {
          "base_uri": "https://localhost:8080/"
        },
        "id": "49BKgW4Wnzo6",
        "outputId": "211308f0-d54c-4627-b030-9ffdd201e5a3"
      },
      "outputs": [
        {
          "output_type": "stream",
          "name": "stdout",
          "text": [
            "tensor([[[0.5065, 0.2059],\n",
            "         [0.3137, 0.0501]],\n",
            "\n",
            "        [[0.0102, 0.0428],\n",
            "         [0.6621, 0.1368]]])\n"
          ]
        }
      ],
      "source": [
        "# Write your code\n",
        "tensor_3d_a = torch.rand(2, 2, 2)\n",
        "tensor_3d_b = torch.rand(2, 2, 2)\n",
        "elementwise_product = tensor_3d_a * tensor_3d_b\n",
        "print(elementwise_product)"
      ]
    },
    {
      "cell_type": "markdown",
      "metadata": {
        "id": "sJ_qfSyInzo6"
      },
      "source": [
        "18. Создать вектор с нормальным распределением и вывести элементы больше 0.5"
      ]
    },
    {
      "cell_type": "code",
      "execution_count": 75,
      "metadata": {
        "colab": {
          "base_uri": "https://localhost:8080/"
        },
        "id": "wjfFw5j8nzo6",
        "outputId": "90484d62-cbcb-44f5-cfdc-3fc5b5db6ee5"
      },
      "outputs": [
        {
          "output_type": "stream",
          "name": "stdout",
          "text": [
            "tensor([0.7133, 0.6092, 0.7753])\n"
          ]
        }
      ],
      "source": [
        "# Write your code\n",
        "normal_vec = torch.randn(10)\n",
        "filtered_elements = normal_vec[normal_vec > 0.5]\n",
        "print(filtered_elements)"
      ]
    },
    {
      "cell_type": "markdown",
      "metadata": {
        "id": "Mhn3KxrCnzo6"
      },
      "source": [
        "19. Создать матрицу 3х3 заполненную единицами и заменить 1й столбец на 4"
      ]
    },
    {
      "cell_type": "code",
      "execution_count": 76,
      "metadata": {
        "colab": {
          "base_uri": "https://localhost:8080/"
        },
        "id": "aKc_lBbvnzo6",
        "outputId": "007e9c2f-79eb-4603-b401-5b17d2ca7207"
      },
      "outputs": [
        {
          "output_type": "stream",
          "name": "stdout",
          "text": [
            "tensor([[4., 1., 1.],\n",
            "        [4., 1., 1.],\n",
            "        [4., 1., 1.]])\n"
          ]
        }
      ],
      "source": [
        "# Write your code\n",
        "ones_matrix = torch.ones(3, 3)\n",
        "ones_matrix[:, 0] = 4\n",
        "print(ones_matrix)"
      ]
    },
    {
      "cell_type": "markdown",
      "metadata": {
        "id": "c0gjj5_4nzo6"
      },
      "source": [
        "20. Создать матрицу и вывести сумму по каждой строке"
      ]
    },
    {
      "cell_type": "code",
      "execution_count": 77,
      "metadata": {
        "colab": {
          "base_uri": "https://localhost:8080/"
        },
        "id": "Sd_SBIkRnzo6",
        "outputId": "eb0d03f6-7ebc-4800-c6cd-5b2c37477ffa"
      },
      "outputs": [
        {
          "output_type": "stream",
          "name": "stdout",
          "text": [
            "tensor([6., 6., 6.])\n"
          ]
        }
      ],
      "source": [
        "# Write your code\n",
        "sum_rows = torch.sum(ones_matrix, dim=1)\n",
        "print(sum_rows)"
      ]
    },
    {
      "cell_type": "markdown",
      "metadata": {
        "id": "nyc2vtdHnzo6"
      },
      "source": [
        "20. Создать матрицу и вывести среднее по каждому столбцу"
      ]
    },
    {
      "cell_type": "code",
      "execution_count": 78,
      "metadata": {
        "colab": {
          "base_uri": "https://localhost:8080/"
        },
        "id": "iPZobS2-nzo6",
        "outputId": "edd09a20-9252-43ee-f19d-3452a631c64c"
      },
      "outputs": [
        {
          "output_type": "stream",
          "name": "stdout",
          "text": [
            "tensor([6., 6., 6.])\n"
          ]
        }
      ],
      "source": [
        "# Write your code\n",
        "sum_rows = torch.sum(ones_matrix, dim=1)\n",
        "print(sum_rows)"
      ]
    },
    {
      "cell_type": "markdown",
      "metadata": {
        "id": "Y3UqErk0nzo6"
      },
      "source": [
        "21. Создать 2 вектора и сконкатенировать по 1 оси"
      ]
    },
    {
      "cell_type": "code",
      "execution_count": 80,
      "metadata": {
        "colab": {
          "base_uri": "https://localhost:8080/"
        },
        "id": "Y-VFZ_m4nzo6",
        "outputId": "99dbbf0a-1976-4d04-bcdd-093952783fbd"
      },
      "outputs": [
        {
          "output_type": "stream",
          "name": "stdout",
          "text": [
            "tensor([4., 1., 1.])\n"
          ]
        }
      ],
      "source": [
        "# Write your code\n",
        "mean_cols = torch.mean(ones_matrix, dim=0)\n",
        "print(mean_cols)"
      ]
    },
    {
      "cell_type": "markdown",
      "metadata": {
        "id": "ZbLy5yeNnzo6"
      },
      "source": [
        "22. Перемножим две большие единичные матрицы.\n",
        "Сначал на центральном процессоре, затем попробуйте на GPU"
      ]
    },
    {
      "cell_type": "code",
      "execution_count": 82,
      "metadata": {
        "id": "OBjqH-x5nzo6"
      },
      "outputs": [],
      "source": [
        "# Write your code\n",
        "if torch.cuda.is_available():\n",
        "    device = 'cuda'\n",
        "else:\n",
        "    device = 'cpu'\n",
        "\n",
        "# На CPU\n",
        "cpu_mat1 = torch.eye(1000)\n",
        "cpu_mat2 = torch.eye(1000)\n",
        "cpu_result = cpu_mat1 @ cpu_mat2\n",
        "\n",
        "# На GPU\n",
        "gpu_mat1 = torch.eye(1000, device=device)\n",
        "gpu_mat2 = torch.eye(1000, device=device)\n",
        "gpu_result = gpu_mat1 @ gpu_mat2"
      ]
    }
  ],
  "metadata": {
    "kernelspec": {
      "display_name": "NeuNetwork",
      "language": "python",
      "name": "python3"
    },
    "language_info": {
      "codemirror_mode": {
        "name": "ipython",
        "version": 3
      },
      "file_extension": ".py",
      "mimetype": "text/x-python",
      "name": "python",
      "nbconvert_exporter": "python",
      "pygments_lexer": "ipython3",
      "version": "3.12.4"
    },
    "colab": {
      "provenance": []
    }
  },
  "nbformat": 4,
  "nbformat_minor": 0
}